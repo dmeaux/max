{
 "cells": [
  {
   "cell_type": "markdown",
   "metadata": {},
   "source": [
    "*Copyright 2024 Modular, Inc: Licensed under the Apache License v2.0 with LLVM Exceptions.*"
   ]
  },
  {
   "cell_type": "markdown",
   "metadata": {},
   "source": [
    "# MAX Serve and PyTorch model server example"
   ]
  },
  {
   "cell_type": "markdown",
   "metadata": {},
   "source": [
    "## Start server"
   ]
  },
  {
   "cell_type": "code",
   "execution_count": null,
   "metadata": {},
   "outputs": [],
   "source": [
    "from tensor import TensorSpec\n",
    "\n",
    "from max.engine import InferenceSession, InputSpec\n",
    "from max.serve.service import FileModel\n",
    "from max.serve.server import InferenceServer, MuxInferenceService\n",
    "\n",
    "var model_name = \"roberta\"\n",
    "var model_path = \"roberta.torchscript\"\n",
    "\n",
    "# Load models during service creation:\n",
    "var models = List(FileModel(model_name, \"0\", model_path, List(\n",
    "    InputSpec(TensorSpec(DType.int64, 1, 128)),\n",
    "    InputSpec(TensorSpec(DType.int64, 1, 128)),\n",
    ")))\n",
    "var session = InferenceSession()\n",
    "var service = MuxInferenceService(models, session)\n",
    "\n",
    "# Create service and start listening:\n",
    "var server = InferenceServer.create(\"0.0.0.0:8000\", session)\n",
    "service.init(server)\n",
    "print(\"Listening on port 8000!\")\n",
    "server.serve(service)"
   ]
  }
 ],
 "metadata": {
  "kernelspec": {
   "display_name": "Mojo",
   "language": "mojo",
   "name": "mojo-jupyter-kernel"
  },
  "language_info": {
   "codemirror_mode": {
    "name": "mojo"
   },
   "file_extension": ".mojo",
   "mimetype": "text/x-mojo",
   "name": "mojo"
  }
 },
 "nbformat": 4,
 "nbformat_minor": 2
}
